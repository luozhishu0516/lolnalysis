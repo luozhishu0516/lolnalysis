{
 "cells": [
  {
   "cell_type": "code",
   "execution_count": null,
   "id": "0e09d3fc",
   "metadata": {},
   "outputs": [
    {
     "name": "stdout",
     "output_type": "stream",
     "text": [
      "         match_id    date_played  game_length game_mode  queue_id lane  \\\n",
      "0  NA1_5362294904  1757011226384         2073   CLASSIC       420  TOP   \n",
      "1  NA1_5362278794  1757008562838         1916   CLASSIC       420  TOP   \n",
      "2  NA1_5362257702  1757005045123         2752   CLASSIC       420  TOP   \n",
      "3  NA1_5360582817  1756773032758         2050   CLASSIC       420  TOP   \n",
      "4  NA1_5360480210  1756765465565         1600   CLASSIC       420  TOP   \n",
      "\n",
      "  champion_played  kills  deaths  assists  total_dmg  vision_score  \\\n",
      "0           Swain      3       6        2      29161            16   \n",
      "1         Chogath      5       9        5      30261            24   \n",
      "2         Chogath     14       5        9      55083            28   \n",
      "3        Volibear      0       9        3      18335             7   \n",
      "4         Chogath      5       4       11      31168             9   \n",
      "\n",
      "   creep_score    win  \n",
      "0          249  False  \n",
      "1          179  False  \n",
      "2          215   True  \n",
      "3          208  False  \n",
      "4          137   True  \n"
     ]
    }
   ],
   "source": [
    "import requests\n",
    "import pandas as pd\n",
    "import time\n",
    "import requests\n",
    "import pandas as pd\n",
    "\n",
    "\n",
    "API_KEY = \"RGAPI-78a2067c-a055-47a4-a60a-55c3e8140cdc\"\n",
    "PUUID = \"MpNI3FS7WmI4iXTwaT5X3fZMoMaablZhzvoBdLP8p6Sx_eCJgu71e6lz3qtQhQKhPJNR2H9xyVgepA\"\n",
    "headers = {\"X-Riot-Token\": API_KEY}\n",
    "\n",
    "ranked_queues = [420, 440]  # 420 = Solo, 440 = Flex\n",
    "\n",
    "def get_personal_match_stats(puuid, max_matches=100):\n",
    "    df_list = []  # collect small DataFrames in a list\n",
    "    matches_collected = 0\n",
    "    start = 0\n",
    "    batch_size = 20\n",
    "    \n",
    "    while matches_collected < max_matches:\n",
    "        url_ids = f\"https://americas.api.riotgames.com/lol/match/v5/matches/by-puuid/{puuid}/ids\"\n",
    "        params = {\"start\": start, \"count\": batch_size}\n",
    "        response = requests.get(url_ids, headers=headers, params=params)\n",
    "        \n",
    "        if response.status_code != 200:\n",
    "            print(\"Error fetching match IDs:\", response.status_code)\n",
    "            break\n",
    "        \n",
    "        match_ids = response.json()\n",
    "        if not match_ids:\n",
    "            break  # no more matches\n",
    "        \n",
    "        for match_id in match_ids:\n",
    "            url_match = f\"https://americas.api.riotgames.com/lol/match/v5/matches/{match_id}\"\n",
    "            response_match = requests.get(url_match, headers=headers)\n",
    "            if response_match.status_code != 200:\n",
    "                continue\n",
    "            match_detail = response_match.json()\n",
    "            time.sleep(1.2)\n",
    "            \n",
    "            info = match_detail['info']\n",
    "            \n",
    "            if info['queueId'] not in ranked_queues:\n",
    "                continue\n",
    "            \n",
    "            for player in info['participants']:\n",
    "                if player['puuid'] == puuid:\n",
    "                    match_dict = {\n",
    "                        'match_id': match_id,\n",
    "                        'date_played': info['gameCreation'],\n",
    "                        'game_length': info['gameDuration'],\n",
    "                        'game_mode': info['gameMode'],\n",
    "                        'queue_id': info['queueId'],\n",
    "                        'lane': player.get('individualPosition', None),\n",
    "                        'champion_played': player['championName'],\n",
    "                        'kills': player['kills'],\n",
    "                        'deaths': player['deaths'],\n",
    "                        'assists': player['assists'],\n",
    "                        'total_dmg': player['totalDamageDealtToChampions'],\n",
    "                        'vision_score': player['visionScore'],\n",
    "                        'creep_score': player['totalMinionsKilled'],\n",
    "                        'win': player['win']\n",
    "                    }\n",
    "                    df_list.append(pd.DataFrame([match_dict]))  # wrap dict in list\n",
    "                    matches_collected += 1\n",
    "                    break  # move to next match\n",
    "            \n",
    "            if matches_collected >= max_matches:\n",
    "                break\n",
    "        \n",
    "        start += batch_size\n",
    "    \n",
    "    # Combine all small DataFrames into one\n",
    "    if df_list:\n",
    "        df = pd.concat(df_list, ignore_index=True)\n",
    "    else:\n",
    "        df = pd.DataFrame()\n",
    "    \n",
    "    return df\n",
    "\n",
    "# Usage\n",
    "df_my_stats = get_personal_match_stats(PUUID, max_matches=100)\n",
    "print(df_my_stats.head())\n"
   ]
  },
  {
   "cell_type": "code",
   "execution_count": 38,
   "id": "cfba6c77",
   "metadata": {},
   "outputs": [],
   "source": [
    "import pymysql\n",
    "import numpy as np\n",
    "from sqlalchemy import create_engine\n",
    "#Amazon RDS information\n",
    "dbname = 'projectdb'\n",
    "user = 'admin'\n",
    "password = 'Tt406391667'\n",
    "host = 'mydb.cfimyekai3qr.ca-central-1.rds.amazonaws.com'\n",
    "port = 3306"
   ]
  },
  {
   "cell_type": "code",
   "execution_count": 39,
   "id": "3d5f17e3",
   "metadata": {},
   "outputs": [],
   "source": [
    "#create sqlalchemy engine\n",
    "db_data = 'mysql+pymysql://'+user+':'+password+'@'+host+':'+str(port)+'/'+dbname\n",
    "engine = create_engine(db_data)"
   ]
  },
  {
   "cell_type": "code",
   "execution_count": 40,
   "id": "b896874d",
   "metadata": {},
   "outputs": [],
   "source": [
    "#connect to database\n",
    "db = pymysql.connect(user = user,  password = password, \n",
    "                      host = host, database = dbname, port = port)\n",
    "cursor = db.cursor()\n"
   ]
  },
  {
   "cell_type": "code",
   "execution_count": 41,
   "id": "fd071ab8",
   "metadata": {},
   "outputs": [],
   "source": [
    "df = pd.DataFrame(columns = [\"player_id\",\"player_name\",\"match_id\",\"date_played\",\"game_length\",\"game_mode\", \"queue_id\",\"lane\",\n",
    "                             \"champion_played\",\"total_dmg\",\"kills\",\"deaths\",\"assists\",\"vision_score\",\"creep_score\",\"win\"])"
   ]
  },
  {
   "cell_type": "code",
   "execution_count": 42,
   "id": "983fb7c8",
   "metadata": {},
   "outputs": [],
   "source": [
    "def create_table(cursor):\n",
    "  sql = ('''CREATE TABLE IF NOT EXISTS %s_match_info (\n",
    "            player_id VARCHAR(50), player_name VARCHAR(16), match_id VARCHAR(50) primary key,\n",
    "              date_played int, game_length int, game_mode TEXT, queue_id int, lane text,\n",
    "                champion_played VARCHAR(30), total_dmg int, kills int, deaths int, assists int,\n",
    "                vision_score int, creep_score int, win boolean)''' % player_name)\n",
    "  cursor.execute(sql)\n",
    "\n",
    "\"\"\"## **Function to retrieve player id from the player in-game name using Riot's API**\"\"\"\n",
    "create_table(cursor)\n"
   ]
  },
  {
   "cell_type": "code",
   "execution_count": 43,
   "id": "331295dc",
   "metadata": {},
   "outputs": [],
   "source": [
    "df=df_my_stats"
   ]
  },
  {
   "cell_type": "code",
   "execution_count": 46,
   "id": "9b49b7fb",
   "metadata": {},
   "outputs": [
    {
     "name": "stdout",
     "output_type": "stream",
     "text": [
      "Saved match data locally as SunDog_match_info.csv\n",
      "Saved match data locally as SunDog_match_info.xlsx\n"
     ]
    }
   ],
   "source": [
    "import pandas as pd\n",
    "\n",
    "# Assume df_my_stats contains your match data\n",
    "df = df_my_stats.copy()\n",
    "\n",
    "# Remove duplicates based on match_id\n",
    "df = df.drop_duplicates(subset=['match_id'])\n",
    "\n",
    "# Save as CSV locally\n",
    "df.to_csv(\"SunDog_match_info.csv\", index=False)\n",
    "print(\"Saved match data locally as SunDog_match_info.csv\")\n",
    "\n",
    "# Optional: Save as Excel\n",
    "df.to_excel(\"SunDog_match_info.xlsx\", index=False)\n",
    "print(\"Saved match data locally as SunDog_match_info.xlsx\")\n"
   ]
  },
  {
   "cell_type": "code",
   "execution_count": 45,
   "id": "7a19b36e",
   "metadata": {},
   "outputs": [
    {
     "data": {
      "text/plain": [
       "100"
      ]
     },
     "execution_count": 45,
     "metadata": {},
     "output_type": "execute_result"
    }
   ],
   "source": [
    "df.to_sql('%s_match_info' % player_name, engine, if_exists = 'replace', index = False)"
   ]
  }
 ],
 "metadata": {
  "kernelspec": {
   "display_name": "Python 3",
   "language": "python",
   "name": "python3"
  },
  "language_info": {
   "codemirror_mode": {
    "name": "ipython",
    "version": 3
   },
   "file_extension": ".py",
   "mimetype": "text/x-python",
   "name": "python",
   "nbconvert_exporter": "python",
   "pygments_lexer": "ipython3",
   "version": "3.13.3"
  }
 },
 "nbformat": 4,
 "nbformat_minor": 5
}
